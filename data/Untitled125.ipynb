{
  "nbformat": 4,
  "nbformat_minor": 0,
  "metadata": {
    "colab": {
      "provenance": []
    },
    "kernelspec": {
      "name": "python3",
      "display_name": "Python 3"
    },
    "language_info": {
      "name": "python"
    }
  },
  "cells": [
    {
      "cell_type": "code",
      "execution_count": null,
      "metadata": {
        "colab": {
          "base_uri": "https://localhost:8080/"
        },
        "id": "NHW2NfNdr-u4",
        "outputId": "8c6a22cd-f9f9-4ad1-8955-8bac2b9a2654"
      },
      "outputs": [
        {
          "output_type": "stream",
          "name": "stdout",
          "text": [
            "Requirement already satisfied: moviepy in /usr/local/lib/python3.11/dist-packages (1.0.3)\n",
            "Requirement already satisfied: decorator<5.0,>=4.0.2 in /usr/local/lib/python3.11/dist-packages (from moviepy) (4.4.2)\n",
            "Requirement already satisfied: tqdm<5.0,>=4.11.2 in /usr/local/lib/python3.11/dist-packages (from moviepy) (4.67.1)\n",
            "Requirement already satisfied: requests<3.0,>=2.8.1 in /usr/local/lib/python3.11/dist-packages (from moviepy) (2.32.3)\n",
            "Requirement already satisfied: proglog<=1.0.0 in /usr/local/lib/python3.11/dist-packages (from moviepy) (0.1.11)\n",
            "Requirement already satisfied: numpy>=1.17.3 in /usr/local/lib/python3.11/dist-packages (from moviepy) (2.0.2)\n",
            "Requirement already satisfied: imageio<3.0,>=2.5 in /usr/local/lib/python3.11/dist-packages (from moviepy) (2.37.0)\n",
            "Requirement already satisfied: imageio-ffmpeg>=0.2.0 in /usr/local/lib/python3.11/dist-packages (from moviepy) (0.6.0)\n",
            "Requirement already satisfied: pillow>=8.3.2 in /usr/local/lib/python3.11/dist-packages (from imageio<3.0,>=2.5->moviepy) (11.2.1)\n",
            "Requirement already satisfied: charset-normalizer<4,>=2 in /usr/local/lib/python3.11/dist-packages (from requests<3.0,>=2.8.1->moviepy) (3.4.1)\n",
            "Requirement already satisfied: idna<4,>=2.5 in /usr/local/lib/python3.11/dist-packages (from requests<3.0,>=2.8.1->moviepy) (3.10)\n",
            "Requirement already satisfied: urllib3<3,>=1.21.1 in /usr/local/lib/python3.11/dist-packages (from requests<3.0,>=2.8.1->moviepy) (2.4.0)\n",
            "Requirement already satisfied: certifi>=2017.4.17 in /usr/local/lib/python3.11/dist-packages (from requests<3.0,>=2.8.1->moviepy) (2025.4.26)\n"
          ]
        }
      ],
      "source": [
        "!pip install moviepy"
      ]
    },
    {
      "cell_type": "code",
      "source": [
        "from moviepy.editor import VideoFileClip, concatenate_videoclips"
      ],
      "metadata": {
        "id": "vs3SSmP5r_Xk",
        "colab": {
          "base_uri": "https://localhost:8080/"
        },
        "outputId": "9ef87270-44b5-43be-c9f4-2b6c11550136"
      },
      "execution_count": null,
      "outputs": [
        {
          "output_type": "stream",
          "name": "stderr",
          "text": [
            "WARNING:py.warnings:/usr/local/lib/python3.11/dist-packages/moviepy/video/io/sliders.py:61: SyntaxWarning: \"is\" with a literal. Did you mean \"==\"?\n",
            "  if event.key is 'enter':\n",
            "\n"
          ]
        }
      ]
    },
    {
      "cell_type": "code",
      "source": [
        "def make_clip_video(path, save_path, start_t, end_t):\n",
        "    clip_video = VideoFileClip(path).subclip(start_t, end_t)\n",
        "    clip_video.write_videofile(save_path)"
      ],
      "metadata": {
        "id": "sR8amIUutpp3"
      },
      "execution_count": null,
      "outputs": []
    },
    {
      "cell_type": "code",
      "source": [
        "path1='/content/fall_1.mp4'\n",
        "path2='/content/fall_2.mp4'\n",
        "path3='/content/fall_3.mp4'\n",
        "path4='/content/fall_4.mp4'\n",
        "path5='/content/fall_5.mp4'\n",
        "path6='/content/fall_6.mp4'\n",
        "path7='/content/fall_7.mp4'\n",
        "path8='/content/fall_8.mp4'\n",
        "path9='/content/fall_9.mp4'\n",
        "path10='/content/fall_10.mp4'"
      ],
      "metadata": {
        "id": "oEICoLIassNt"
      },
      "execution_count": null,
      "outputs": []
    },
    {
      "cell_type": "code",
      "source": [
        "make_clip_video(path1, 'normal_data1.mp4', 10, 20)\n",
        "make_clip_video(path2, 'normal_data2.mp4', 10, 20)\n",
        "make_clip_video(path3, 'normal_data3.mp4', 10, 20)\n",
        "make_clip_video(path4, 'normal_data4.mp4', 10, 20)\n",
        "make_clip_video(path5, 'normal_data5.mp4', 10, 20)\n",
        "make_clip_video(path6, 'normal_data6.mp4',10, 20)\n",
        "make_clip_video(path7, 'normal_data7.mp4',10, 20)\n",
        "make_clip_video(path8, 'normal_data8.mp4', 10, 20)\n",
        "make_clip_video(path9, 'normal_data9.mp4',10, 20)\n",
        "make_clip_video(path10, 'normal_data10.mp4',10, 20)\n",
        "#make_clip_video(path11, 'normal_data11.mp4',10, 20)\n",
        "#make_clip_video(path12, 'normal_data12.mp4', 10, 20)\n",
        "#make_clip_video(path13, 'normal_data13.mp4', 10, 20)\n",
        "#make_clip_video(path14, 'normal_data14.mp4', 10, 20)"
      ],
      "metadata": {
        "colab": {
          "base_uri": "https://localhost:8080/"
        },
        "id": "Gwu1rRjdsuP1",
        "outputId": "6050ad64-c38b-4d42-ec54-55aaedff2b06"
      },
      "execution_count": null,
      "outputs": [
        {
          "output_type": "stream",
          "name": "stdout",
          "text": [
            "Moviepy - Building video normal_data1.mp4.\n",
            "Moviepy - Writing video normal_data1.mp4\n",
            "\n"
          ]
        },
        {
          "output_type": "stream",
          "name": "stderr",
          "text": []
        },
        {
          "output_type": "stream",
          "name": "stdout",
          "text": [
            "Moviepy - Done !\n",
            "Moviepy - video ready normal_data1.mp4\n",
            "Moviepy - Building video normal_data2.mp4.\n",
            "Moviepy - Writing video normal_data2.mp4\n",
            "\n"
          ]
        },
        {
          "output_type": "stream",
          "name": "stderr",
          "text": []
        },
        {
          "output_type": "stream",
          "name": "stdout",
          "text": [
            "Moviepy - Done !\n",
            "Moviepy - video ready normal_data2.mp4\n",
            "Moviepy - Building video normal_data3.mp4.\n",
            "Moviepy - Writing video normal_data3.mp4\n",
            "\n"
          ]
        },
        {
          "output_type": "stream",
          "name": "stderr",
          "text": []
        },
        {
          "output_type": "stream",
          "name": "stdout",
          "text": [
            "Moviepy - Done !\n",
            "Moviepy - video ready normal_data3.mp4\n",
            "Moviepy - Building video normal_data4.mp4.\n",
            "Moviepy - Writing video normal_data4.mp4\n",
            "\n"
          ]
        },
        {
          "output_type": "stream",
          "name": "stderr",
          "text": []
        },
        {
          "output_type": "stream",
          "name": "stdout",
          "text": [
            "Moviepy - Done !\n",
            "Moviepy - video ready normal_data4.mp4\n",
            "Moviepy - Building video normal_data5.mp4.\n",
            "Moviepy - Writing video normal_data5.mp4\n",
            "\n"
          ]
        },
        {
          "output_type": "stream",
          "name": "stderr",
          "text": []
        },
        {
          "output_type": "stream",
          "name": "stdout",
          "text": [
            "Moviepy - Done !\n",
            "Moviepy - video ready normal_data5.mp4\n",
            "Moviepy - Building video normal_data6.mp4.\n",
            "Moviepy - Writing video normal_data6.mp4\n",
            "\n"
          ]
        },
        {
          "output_type": "stream",
          "name": "stderr",
          "text": []
        },
        {
          "output_type": "stream",
          "name": "stdout",
          "text": [
            "Moviepy - Done !\n",
            "Moviepy - video ready normal_data6.mp4\n",
            "Moviepy - Building video normal_data7.mp4.\n",
            "Moviepy - Writing video normal_data7.mp4\n",
            "\n"
          ]
        },
        {
          "output_type": "stream",
          "name": "stderr",
          "text": []
        },
        {
          "output_type": "stream",
          "name": "stdout",
          "text": [
            "Moviepy - Done !\n",
            "Moviepy - video ready normal_data7.mp4\n",
            "Moviepy - Building video normal_data8.mp4.\n",
            "Moviepy - Writing video normal_data8.mp4\n",
            "\n"
          ]
        },
        {
          "output_type": "stream",
          "name": "stderr",
          "text": []
        },
        {
          "output_type": "stream",
          "name": "stdout",
          "text": [
            "Moviepy - Done !\n",
            "Moviepy - video ready normal_data8.mp4\n",
            "Moviepy - Building video normal_data9.mp4.\n",
            "Moviepy - Writing video normal_data9.mp4\n",
            "\n"
          ]
        },
        {
          "output_type": "stream",
          "name": "stderr",
          "text": []
        },
        {
          "output_type": "stream",
          "name": "stdout",
          "text": [
            "Moviepy - Done !\n",
            "Moviepy - video ready normal_data9.mp4\n",
            "Moviepy - Building video normal_data10.mp4.\n",
            "Moviepy - Writing video normal_data10.mp4\n",
            "\n"
          ]
        },
        {
          "output_type": "stream",
          "name": "stderr",
          "text": []
        },
        {
          "output_type": "stream",
          "name": "stdout",
          "text": [
            "Moviepy - Done !\n",
            "Moviepy - video ready normal_data10.mp4\n"
          ]
        }
      ]
    },
    {
      "cell_type": "code",
      "source": [
        "make_clip_video(path1, 'falling_data1.mp4', 22, 32)\n",
        "make_clip_video(path2, 'falling_data2.mp4', 40, 50)\n",
        "make_clip_video(path3, 'falling_data3.mp4', 40, 50)\n",
        "make_clip_video(path4, 'falling_data4.mp4', 38, 48)\n",
        "make_clip_video(path5, 'falling_data5.mp4', 36, 46)\n",
        "make_clip_video(path6, 'falling_data6.mp4', 36, 46)\n",
        "make_clip_video(path7, 'falling_data7.mp4', 36, 46)\n",
        "make_clip_video(path8, 'falling_data8.mp4', 40, 50)\n",
        "make_clip_video(path9, 'falling_data9.mp4', 40, 50)\n",
        "make_clip_video(path10, 'falling_data10.mp4', 39, 49)\n",
        "#make_clip_video(path11, 'normal_data11.mp4', 7, 38)\n",
        "#make_clip_video(path12, 'normal_data12.mp4', 5, 34)\n",
        "#make_clip_video(path13, 'normal_data13.mp4', 5, 36)\n",
        "#make_clip_video(path14, 'normal_data14.mp4', 6, 37)"
      ],
      "metadata": {
        "id": "0SX4KDfm902V",
        "colab": {
          "base_uri": "https://localhost:8080/"
        },
        "outputId": "b5576e30-415c-4315-dbb4-f3b8479896be"
      },
      "execution_count": null,
      "outputs": [
        {
          "output_type": "stream",
          "name": "stderr",
          "text": [
            "t:   7%|▋         | 2/30 [13:15<00:02, 12.49it/s, now=None]"
          ]
        },
        {
          "output_type": "stream",
          "name": "stdout",
          "text": [
            "Moviepy - Building video falling_data1.mp4.\n",
            "Moviepy - Writing video falling_data1.mp4\n",
            "\n"
          ]
        },
        {
          "output_type": "stream",
          "name": "stderr",
          "text": [
            "\n",
            "t:   0%|          | 0/30 [00:00<?, ?it/s, now=None]\u001b[A\n",
            "t:  17%|█▋        | 5/30 [00:00<00:00, 36.71it/s, now=None]\u001b[A\n",
            "t:  30%|███       | 9/30 [00:00<00:01, 16.97it/s, now=None]\u001b[A\n",
            "t:  40%|████      | 12/30 [00:00<00:01, 16.64it/s, now=None]\u001b[A\n",
            "t:  53%|█████▎    | 16/30 [00:00<00:00, 21.27it/s, now=None]\u001b[A\n",
            "t:  67%|██████▋   | 20/30 [00:00<00:00, 23.93it/s, now=None]\u001b[A\n",
            "t:  77%|███████▋  | 23/30 [00:01<00:00, 24.86it/s, now=None]\u001b[A\n",
            "t:  90%|█████████ | 27/30 [00:01<00:00, 27.06it/s, now=None]\u001b[A\n",
            "t:   7%|▋         | 2/30 [13:23<00:02, 12.49it/s, now=None]"
          ]
        },
        {
          "output_type": "stream",
          "name": "stdout",
          "text": [
            "Moviepy - Done !\n",
            "Moviepy - video ready falling_data1.mp4\n"
          ]
        },
        {
          "output_type": "stream",
          "name": "stderr",
          "text": [
            "t:   7%|▋         | 2/30 [13:24<00:02, 12.49it/s, now=None]"
          ]
        },
        {
          "output_type": "stream",
          "name": "stdout",
          "text": [
            "Moviepy - Building video falling_data2.mp4.\n",
            "Moviepy - Writing video falling_data2.mp4\n",
            "\n"
          ]
        },
        {
          "output_type": "stream",
          "name": "stderr",
          "text": [
            "\n",
            "t:   0%|          | 0/30 [00:00<?, ?it/s, now=None]\u001b[A\n",
            "t:  13%|█▎        | 4/30 [00:00<00:00, 29.48it/s, now=None]\u001b[A\n",
            "t:  23%|██▎       | 7/30 [00:00<00:01, 16.17it/s, now=None]\u001b[A\n",
            "t:  30%|███       | 9/30 [00:00<00:01, 16.44it/s, now=None]\u001b[A\n",
            "t:  40%|████      | 12/30 [00:00<00:01, 17.05it/s, now=None]\u001b[A\n",
            "t:  47%|████▋     | 14/30 [00:00<00:00, 16.73it/s, now=None]\u001b[A\n",
            "t:  53%|█████▎    | 16/30 [00:00<00:00, 16.67it/s, now=None]\u001b[A\n",
            "t:  60%|██████    | 18/30 [00:01<00:00, 15.80it/s, now=None]\u001b[A\n",
            "t:  70%|███████   | 21/30 [00:01<00:00, 15.89it/s, now=None]\u001b[A\n",
            "t:  77%|███████▋  | 23/30 [00:01<00:00, 13.29it/s, now=None]\u001b[A\n",
            "t:  87%|████████▋ | 26/30 [00:01<00:00, 15.41it/s, now=None]\u001b[A\n",
            "t:  93%|█████████▎| 28/30 [00:01<00:00, 15.74it/s, now=None]\u001b[A\n",
            "t: 100%|██████████| 30/30 [00:01<00:00, 16.36it/s, now=None]\u001b[A\n",
            "t:   7%|▋         | 2/30 [13:32<00:02, 12.49it/s, now=None]"
          ]
        },
        {
          "output_type": "stream",
          "name": "stdout",
          "text": [
            "Moviepy - Done !\n",
            "Moviepy - video ready falling_data2.mp4\n"
          ]
        },
        {
          "output_type": "stream",
          "name": "stderr",
          "text": [
            "t:   7%|▋         | 2/30 [13:33<00:02, 12.49it/s, now=None]"
          ]
        },
        {
          "output_type": "stream",
          "name": "stdout",
          "text": [
            "Moviepy - Building video falling_data3.mp4.\n",
            "Moviepy - Writing video falling_data3.mp4\n",
            "\n"
          ]
        },
        {
          "output_type": "stream",
          "name": "stderr",
          "text": [
            "\n",
            "t:   0%|          | 0/30 [00:00<?, ?it/s, now=None]\u001b[A\n",
            "t:  13%|█▎        | 4/30 [00:00<00:00, 26.67it/s, now=None]\u001b[A\n",
            "t:  23%|██▎       | 7/30 [00:00<00:01, 12.82it/s, now=None]\u001b[A\n",
            "t:  33%|███▎      | 10/30 [00:00<00:01, 14.49it/s, now=None]\u001b[A\n",
            "t:  40%|████      | 12/30 [00:00<00:01, 15.65it/s, now=None]\u001b[A\n",
            "t:  53%|█████▎    | 16/30 [00:00<00:00, 18.74it/s, now=None]\u001b[A\n",
            "t:  63%|██████▎   | 19/30 [00:01<00:00, 21.23it/s, now=None]\u001b[A\n",
            "t:  73%|███████▎  | 22/30 [00:01<00:00, 21.48it/s, now=None]\u001b[A\n",
            "t:  83%|████████▎ | 25/30 [00:01<00:00, 21.56it/s, now=None]\u001b[A\n",
            "t:  93%|█████████▎| 28/30 [00:01<00:00, 21.87it/s, now=None]\u001b[A\n",
            "t:   7%|▋         | 2/30 [13:41<00:02, 12.49it/s, now=None]"
          ]
        },
        {
          "output_type": "stream",
          "name": "stdout",
          "text": [
            "Moviepy - Done !\n",
            "Moviepy - video ready falling_data3.mp4\n"
          ]
        },
        {
          "output_type": "stream",
          "name": "stderr",
          "text": [
            "t:   7%|▋         | 2/30 [13:42<00:02, 12.49it/s, now=None]"
          ]
        },
        {
          "output_type": "stream",
          "name": "stdout",
          "text": [
            "Moviepy - Building video falling_data4.mp4.\n",
            "Moviepy - Writing video falling_data4.mp4\n",
            "\n"
          ]
        },
        {
          "output_type": "stream",
          "name": "stderr",
          "text": [
            "\n",
            "t:   0%|          | 0/30 [00:00<?, ?it/s, now=None]\u001b[A\n",
            "t:   7%|▋         | 2/30 [00:00<00:01, 15.44it/s, now=None]\u001b[A\n",
            "t:  13%|█▎        | 4/30 [00:00<00:01, 14.12it/s, now=None]\u001b[A\n",
            "t:  20%|██        | 6/30 [00:00<00:01, 16.19it/s, now=None]\u001b[A\n",
            "t:  27%|██▋       | 8/30 [00:00<00:01, 17.29it/s, now=None]\u001b[A\n",
            "t:  33%|███▎      | 10/30 [00:00<00:01, 16.74it/s, now=None]\u001b[A\n",
            "t:  40%|████      | 12/30 [00:00<00:01, 15.83it/s, now=None]\u001b[A\n",
            "t:  50%|█████     | 15/30 [00:00<00:00, 19.62it/s, now=None]\u001b[A\n",
            "t:  63%|██████▎   | 19/30 [00:00<00:00, 22.92it/s, now=None]\u001b[A\n",
            "t:  77%|███████▋  | 23/30 [00:01<00:00, 25.60it/s, now=None]\u001b[A\n",
            "t:  90%|█████████ | 27/30 [00:01<00:00, 27.37it/s, now=None]\u001b[A\n",
            "t: 100%|██████████| 30/30 [00:01<00:00, 27.42it/s, now=None]\u001b[A\n",
            "t:   7%|▋         | 2/30 [13:49<00:02, 12.49it/s, now=None]"
          ]
        },
        {
          "output_type": "stream",
          "name": "stdout",
          "text": [
            "Moviepy - Done !\n",
            "Moviepy - video ready falling_data4.mp4\n"
          ]
        },
        {
          "output_type": "stream",
          "name": "stderr",
          "text": [
            "t:   7%|▋         | 2/30 [13:49<00:02, 12.49it/s, now=None]"
          ]
        },
        {
          "output_type": "stream",
          "name": "stdout",
          "text": [
            "Moviepy - Building video falling_data5.mp4.\n",
            "Moviepy - Writing video falling_data5.mp4\n",
            "\n"
          ]
        },
        {
          "output_type": "stream",
          "name": "stderr",
          "text": [
            "\n",
            "t:   0%|          | 0/30 [00:00<?, ?it/s, now=None]\u001b[A\n",
            "t:   7%|▋         | 2/30 [00:00<00:01, 18.89it/s, now=None]\u001b[A\n",
            "t:  13%|█▎        | 4/30 [00:00<00:02, 10.53it/s, now=None]\u001b[A\n",
            "t:  20%|██        | 6/30 [00:00<00:01, 12.16it/s, now=None]\u001b[A\n",
            "t:  27%|██▋       | 8/30 [00:00<00:01, 13.69it/s, now=None]\u001b[A\n",
            "t:  37%|███▋      | 11/30 [00:00<00:01, 17.80it/s, now=None]\u001b[A\n",
            "t:  47%|████▋     | 14/30 [00:00<00:00, 19.21it/s, now=None]\u001b[A\n",
            "t:  57%|█████▋    | 17/30 [00:00<00:00, 19.88it/s, now=None]\u001b[A\n",
            "t:  67%|██████▋   | 20/30 [00:01<00:00, 20.45it/s, now=None]\u001b[A\n",
            "t:  77%|███████▋  | 23/30 [00:01<00:00, 20.91it/s, now=None]\u001b[A\n",
            "t:  87%|████████▋ | 26/30 [00:01<00:00, 21.71it/s, now=None]\u001b[A\n",
            "t:  97%|█████████▋| 29/30 [00:01<00:00, 22.08it/s, now=None]\u001b[A\n",
            "t:   7%|▋         | 2/30 [14:00<00:02, 12.49it/s, now=None]"
          ]
        },
        {
          "output_type": "stream",
          "name": "stdout",
          "text": [
            "Moviepy - Done !\n",
            "Moviepy - video ready falling_data5.mp4\n"
          ]
        },
        {
          "output_type": "stream",
          "name": "stderr",
          "text": [
            "t:   7%|▋         | 2/30 [14:01<00:02, 12.49it/s, now=None]"
          ]
        },
        {
          "output_type": "stream",
          "name": "stdout",
          "text": [
            "Moviepy - Building video falling_data6.mp4.\n",
            "Moviepy - Writing video falling_data6.mp4\n",
            "\n"
          ]
        },
        {
          "output_type": "stream",
          "name": "stderr",
          "text": [
            "\n",
            "t:   0%|          | 0/30 [00:00<?, ?it/s, now=None]\u001b[A\n",
            "t:  10%|█         | 3/30 [00:00<00:01, 26.64it/s, now=None]\u001b[A\n",
            "t:  20%|██        | 6/30 [00:00<00:01, 14.18it/s, now=None]\u001b[A\n",
            "t:  30%|███       | 9/30 [00:00<00:01, 15.77it/s, now=None]\u001b[A\n",
            "t:  40%|████      | 12/30 [00:00<00:01, 17.34it/s, now=None]\u001b[A\n",
            "t:  50%|█████     | 15/30 [00:00<00:00, 19.97it/s, now=None]\u001b[A\n",
            "t:  60%|██████    | 18/30 [00:00<00:00, 22.23it/s, now=None]\u001b[A\n",
            "t:  70%|███████   | 21/30 [00:01<00:00, 23.73it/s, now=None]\u001b[A\n",
            "t:  80%|████████  | 24/30 [00:01<00:00, 24.80it/s, now=None]\u001b[A\n",
            "t:  90%|█████████ | 27/30 [00:01<00:00, 23.98it/s, now=None]\u001b[A\n",
            "t: 100%|██████████| 30/30 [00:01<00:00, 20.31it/s, now=None]\u001b[A\n",
            "t:   7%|▋         | 2/30 [14:08<00:02, 12.49it/s, now=None]"
          ]
        },
        {
          "output_type": "stream",
          "name": "stdout",
          "text": [
            "Moviepy - Done !\n",
            "Moviepy - video ready falling_data6.mp4\n"
          ]
        },
        {
          "output_type": "stream",
          "name": "stderr",
          "text": [
            "t:   7%|▋         | 2/30 [14:08<00:02, 12.49it/s, now=None]"
          ]
        },
        {
          "output_type": "stream",
          "name": "stdout",
          "text": [
            "Moviepy - Building video falling_data7.mp4.\n",
            "Moviepy - Writing video falling_data7.mp4\n",
            "\n"
          ]
        },
        {
          "output_type": "stream",
          "name": "stderr",
          "text": [
            "\n",
            "t:   0%|          | 0/30 [00:00<?, ?it/s, now=None]\u001b[A\n",
            "t:  17%|█▋        | 5/30 [00:00<00:00, 32.01it/s, now=None]\u001b[A\n",
            "t:  30%|███       | 9/30 [00:00<00:01, 17.98it/s, now=None]\u001b[A\n",
            "t:  40%|████      | 12/30 [00:00<00:00, 18.23it/s, now=None]\u001b[A\n",
            "t:  50%|█████     | 15/30 [00:00<00:00, 19.89it/s, now=None]\u001b[A\n",
            "t:  60%|██████    | 18/30 [00:00<00:00, 22.21it/s, now=None]\u001b[A\n",
            "t:  70%|███████   | 21/30 [00:01<00:00, 20.00it/s, now=None]\u001b[A\n",
            "t:  83%|████████▎ | 25/30 [00:01<00:00, 23.61it/s, now=None]\u001b[A\n",
            "t:  93%|█████████▎| 28/30 [00:01<00:00, 22.71it/s, now=None]\u001b[A\n",
            "t:   7%|▋         | 2/30 [14:17<00:02, 12.49it/s, now=None]"
          ]
        },
        {
          "output_type": "stream",
          "name": "stdout",
          "text": [
            "Moviepy - Done !\n",
            "Moviepy - video ready falling_data7.mp4\n"
          ]
        },
        {
          "output_type": "stream",
          "name": "stderr",
          "text": [
            "t:   7%|▋         | 2/30 [14:18<00:02, 12.49it/s, now=None]"
          ]
        },
        {
          "output_type": "stream",
          "name": "stdout",
          "text": [
            "Moviepy - Building video falling_data8.mp4.\n",
            "Moviepy - Writing video falling_data8.mp4\n",
            "\n"
          ]
        },
        {
          "output_type": "stream",
          "name": "stderr",
          "text": [
            "\n",
            "t:   0%|          | 0/30 [00:00<?, ?it/s, now=None]\u001b[A\n",
            "t:  17%|█▋        | 5/30 [00:00<00:00, 44.60it/s, now=None]\u001b[A\n",
            "t:  33%|███▎      | 10/30 [00:00<00:00, 26.37it/s, now=None]\u001b[A\n",
            "t:  47%|████▋     | 14/30 [00:00<00:00, 25.10it/s, now=None]\u001b[A\n",
            "t:  57%|█████▋    | 17/30 [00:00<00:00, 26.16it/s, now=None]\u001b[A\n",
            "t:  67%|██████▋   | 20/30 [00:00<00:00, 24.54it/s, now=None]\u001b[A\n",
            "t:  77%|███████▋  | 23/30 [00:00<00:00, 24.97it/s, now=None]\u001b[A\n",
            "t:  87%|████████▋ | 26/30 [00:01<00:00, 23.80it/s, now=None]\u001b[A\n",
            "t:  97%|█████████▋| 29/30 [00:01<00:00, 24.05it/s, now=None]\u001b[A\n",
            "t:   7%|▋         | 2/30 [14:25<00:02, 12.49it/s, now=None]"
          ]
        },
        {
          "output_type": "stream",
          "name": "stdout",
          "text": [
            "Moviepy - Done !\n",
            "Moviepy - video ready falling_data8.mp4\n"
          ]
        },
        {
          "output_type": "stream",
          "name": "stderr",
          "text": [
            "t:   7%|▋         | 2/30 [14:26<00:02, 12.49it/s, now=None]"
          ]
        },
        {
          "output_type": "stream",
          "name": "stdout",
          "text": [
            "Moviepy - Building video falling_data9.mp4.\n",
            "Moviepy - Writing video falling_data9.mp4\n",
            "\n"
          ]
        },
        {
          "output_type": "stream",
          "name": "stderr",
          "text": [
            "\n",
            "t:   0%|          | 0/30 [00:00<?, ?it/s, now=None]\u001b[A\n",
            "t:  13%|█▎        | 4/30 [00:00<00:00, 37.65it/s, now=None]\u001b[A\n",
            "t:  27%|██▋       | 8/30 [00:00<00:00, 26.43it/s, now=None]\u001b[A\n",
            "t:  37%|███▋      | 11/30 [00:00<00:00, 22.53it/s, now=None]\u001b[A\n",
            "t:  47%|████▋     | 14/30 [00:00<00:00, 19.55it/s, now=None]\u001b[A\n",
            "t:  57%|█████▋    | 17/30 [00:00<00:00, 21.53it/s, now=None]\u001b[A\n",
            "t:  67%|██████▋   | 20/30 [00:00<00:00, 21.91it/s, now=None]\u001b[A\n",
            "t:  77%|███████▋  | 23/30 [00:01<00:00, 21.36it/s, now=None]\u001b[A\n",
            "t:  87%|████████▋ | 26/30 [00:01<00:00, 22.20it/s, now=None]\u001b[A\n",
            "t:  97%|█████████▋| 29/30 [00:01<00:00, 21.37it/s, now=None]\u001b[A\n",
            "t:   7%|▋         | 2/30 [14:35<00:02, 12.49it/s, now=None]"
          ]
        },
        {
          "output_type": "stream",
          "name": "stdout",
          "text": [
            "Moviepy - Done !\n",
            "Moviepy - video ready falling_data9.mp4\n"
          ]
        },
        {
          "output_type": "stream",
          "name": "stderr",
          "text": [
            "t:   7%|▋         | 2/30 [14:36<00:02, 12.49it/s, now=None]"
          ]
        },
        {
          "output_type": "stream",
          "name": "stdout",
          "text": [
            "Moviepy - Building video falling_data10.mp4.\n",
            "Moviepy - Writing video falling_data10.mp4\n",
            "\n"
          ]
        },
        {
          "output_type": "stream",
          "name": "stderr",
          "text": [
            "\n",
            "t:   0%|          | 0/30 [00:00<?, ?it/s, now=None]\u001b[A\n",
            "t:  17%|█▋        | 5/30 [00:00<00:00, 49.66it/s, now=None]\u001b[A\n",
            "t:  33%|███▎      | 10/30 [00:00<00:00, 31.12it/s, now=None]\u001b[A\n",
            "t:  47%|████▋     | 14/30 [00:00<00:00, 30.56it/s, now=None]\u001b[A\n",
            "t:  60%|██████    | 18/30 [00:00<00:00, 31.43it/s, now=None]\u001b[A\n",
            "t:  73%|███████▎  | 22/30 [00:00<00:00, 30.20it/s, now=None]\u001b[A\n",
            "t:  87%|████████▋ | 26/30 [00:00<00:00, 30.49it/s, now=None]\u001b[A\n",
            "t: 100%|██████████| 30/30 [00:01<00:00, 27.66it/s, now=None]\u001b[A\n",
            "t:   7%|▋         | 2/30 [14:44<00:02, 12.49it/s, now=None]"
          ]
        },
        {
          "output_type": "stream",
          "name": "stdout",
          "text": [
            "Moviepy - Done !\n",
            "Moviepy - video ready falling_data10.mp4\n"
          ]
        }
      ]
    },
    {
      "cell_type": "code",
      "source": [
        "from moviepy.editor import VideoFileClip, concatenate_videoclips\n",
        "\n",
        "# 1. 영상 파일 경로 리스트\n",
        "clip_paths = [\n",
        "    '/content/fall_1.mp4',\n",
        "    '/content/fall_2.mp4',\n",
        "    '/content/fall_3.mp4',\n",
        "]\n",
        "\n",
        "clips = [VideoFileClip(path) for path in clip_paths]\n",
        "combined_n = concatenate_videoclips(clips)\n",
        "combined_n.write_videofile(\"falling_original.mp4\")\n"
      ],
      "metadata": {
        "colab": {
          "base_uri": "https://localhost:8080/"
        },
        "id": "udMsimuAt6dT",
        "outputId": "412e395a-f335-426f-9b4c-929adabbff5a"
      },
      "execution_count": null,
      "outputs": [
        {
          "output_type": "stream",
          "name": "stdout",
          "text": [
            "Moviepy - Building video falling_original.mp4.\n",
            "Moviepy - Writing video falling_original.mp4\n",
            "\n"
          ]
        },
        {
          "output_type": "stream",
          "name": "stderr",
          "text": []
        },
        {
          "output_type": "stream",
          "name": "stdout",
          "text": [
            "Moviepy - Done !\n",
            "Moviepy - video ready falling_original.mp4\n"
          ]
        }
      ]
    },
    {
      "cell_type": "code",
      "source": [
        "clips = [f]\n",
        "combined_n = concatenate_videoclips(clips)\n"
      ],
      "metadata": {
        "id": "tZDXSzM4ODlJ"
      },
      "execution_count": null,
      "outputs": []
    },
    {
      "cell_type": "code",
      "source": [
        "mp4='/content/C_3_7_8_BU_SMB_09-02_12-51-37_CB_RGB_DF2_M2.mp4'\n",
        "make_clip_video(mp4, 'abnormal.mp4', 19, 29)"
      ],
      "metadata": {
        "id": "uFIrIvemwE0R",
        "colab": {
          "base_uri": "https://localhost:8080/"
        },
        "outputId": "9a4cd1a1-a208-4a8b-ad60-ce4d0ca90810"
      },
      "execution_count": null,
      "outputs": [
        {
          "output_type": "stream",
          "name": "stdout",
          "text": [
            "Moviepy - Building video abnormal.mp4.\n",
            "Moviepy - Writing video abnormal.mp4\n",
            "\n"
          ]
        },
        {
          "output_type": "stream",
          "name": "stderr",
          "text": []
        },
        {
          "output_type": "stream",
          "name": "stdout",
          "text": [
            "Moviepy - Done !\n",
            "Moviepy - video ready abnormal.mp4\n"
          ]
        }
      ]
    },
    {
      "cell_type": "code",
      "source": [],
      "metadata": {
        "id": "G8UDBS-UcptJ"
      },
      "execution_count": null,
      "outputs": []
    }
  ]
}